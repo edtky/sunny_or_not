{
 "cells": [
  {
   "cell_type": "markdown",
   "metadata": {},
   "source": [
    "# Sunny or Not?\n",
    "\n",
    "----\n",
    "\n",
    "Using 10 years of weather data in Basel, Switzerland, we attempt to predict if tomorrow will be **sunny or not**.\n",
    "\n",
    "The model input consist of weather data such as temperature, humidity, precipitation, cloud cover, windspeed etc.  \n",
    "The output will be a binary value of 1 or 0 indicating sunny or not."
   ]
  },
  {
   "cell_type": "code",
   "execution_count": 1,
   "metadata": {},
   "outputs": [],
   "source": [
    "import pandas as pd\n",
    "import numpy as np\n",
    "import seaborn as sns\n",
    "import matplotlib.pyplot as plt\n",
    "\n",
    "from sklearn.linear_model import LogisticRegression\n",
    "from sklearn.metrics import confusion_matrix, f1_score\n",
    "import statistics"
   ]
  },
  {
   "cell_type": "markdown",
   "metadata": {},
   "source": [
    "# 1. Obtaining 10 years of daily weather data from meteoblue\n",
    "\n",
    "https://www.meteoblue.com/en/weather/\n",
    "\n",
    "---"
   ]
  },
  {
   "cell_type": "code",
   "execution_count": 2,
   "metadata": {},
   "outputs": [],
   "source": [
    "data = pd.read_csv(\"./basel_10years_weather.csv\")"
   ]
  },
  {
   "cell_type": "markdown",
   "metadata": {},
   "source": [
    "# 2. EDA\n",
    "\n",
    "---"
   ]
  },
  {
   "cell_type": "code",
   "execution_count": 3,
   "metadata": {},
   "outputs": [
    {
     "data": {
      "text/html": [
       "<div>\n",
       "<style scoped>\n",
       "    .dataframe tbody tr th:only-of-type {\n",
       "        vertical-align: middle;\n",
       "    }\n",
       "\n",
       "    .dataframe tbody tr th {\n",
       "        vertical-align: top;\n",
       "    }\n",
       "\n",
       "    .dataframe thead th {\n",
       "        text-align: right;\n",
       "    }\n",
       "</style>\n",
       "<table border=\"1\" class=\"dataframe\">\n",
       "  <thead>\n",
       "    <tr style=\"text-align: right;\">\n",
       "      <th></th>\n",
       "      <th>Year</th>\n",
       "      <th>Month</th>\n",
       "      <th>Day</th>\n",
       "      <th>Hour</th>\n",
       "      <th>Minute</th>\n",
       "      <th>Temperature daily mean [2 m above gnd]</th>\n",
       "      <th>Relative Humidity daily mean [2 m above gnd]</th>\n",
       "      <th>Mean Sea Level Pressure daily mean [MSL]</th>\n",
       "      <th>Total Precipitation (high resolution) daily sum [sfc]</th>\n",
       "      <th>Total Precipitation (low resolution) daily sum [sfc]</th>\n",
       "      <th>...</th>\n",
       "      <th>Total Cloud Cover daily max [sfc]</th>\n",
       "      <th>Total Cloud Cover daily min [sfc]</th>\n",
       "      <th>High Cloud Cover daily max [high cld lay]</th>\n",
       "      <th>High Cloud Cover daily min [high cld lay]</th>\n",
       "      <th>Medium Cloud Cover daily max [mid cld lay]</th>\n",
       "      <th>Medium Cloud Cover daily min [mid cld lay]</th>\n",
       "      <th>Low Cloud Cover daily max [low cld lay]</th>\n",
       "      <th>Low Cloud Cover daily min [low cld lay]</th>\n",
       "      <th>Wind Speed daily max [10 m above gnd]</th>\n",
       "      <th>Wind Speed daily min [10 m above gnd]</th>\n",
       "    </tr>\n",
       "  </thead>\n",
       "  <tbody>\n",
       "    <tr>\n",
       "      <th>count</th>\n",
       "      <td>3652.000000</td>\n",
       "      <td>3652.000000</td>\n",
       "      <td>3652.000000</td>\n",
       "      <td>3652.0</td>\n",
       "      <td>3652.0</td>\n",
       "      <td>3652.000000</td>\n",
       "      <td>3652.000000</td>\n",
       "      <td>3652.000000</td>\n",
       "      <td>3652.000000</td>\n",
       "      <td>3652.000000</td>\n",
       "      <td>...</td>\n",
       "      <td>3652.000000</td>\n",
       "      <td>3652.000000</td>\n",
       "      <td>3652.000000</td>\n",
       "      <td>3652.000000</td>\n",
       "      <td>3652.000000</td>\n",
       "      <td>3652.000000</td>\n",
       "      <td>3652.000000</td>\n",
       "      <td>3652.000000</td>\n",
       "      <td>3652.000000</td>\n",
       "      <td>3652.000000</td>\n",
       "    </tr>\n",
       "    <tr>\n",
       "      <th>mean</th>\n",
       "      <td>2013.500274</td>\n",
       "      <td>6.523549</td>\n",
       "      <td>15.727820</td>\n",
       "      <td>0.0</td>\n",
       "      <td>0.0</td>\n",
       "      <td>53.772716</td>\n",
       "      <td>71.698968</td>\n",
       "      <td>1016.841202</td>\n",
       "      <td>2.059091</td>\n",
       "      <td>2.626424</td>\n",
       "      <td>...</td>\n",
       "      <td>89.282585</td>\n",
       "      <td>8.798932</td>\n",
       "      <td>60.894852</td>\n",
       "      <td>0.766703</td>\n",
       "      <td>72.610077</td>\n",
       "      <td>2.026835</td>\n",
       "      <td>81.302848</td>\n",
       "      <td>4.202355</td>\n",
       "      <td>11.934934</td>\n",
       "      <td>2.226298</td>\n",
       "    </tr>\n",
       "    <tr>\n",
       "      <th>std</th>\n",
       "      <td>2.872293</td>\n",
       "      <td>3.449005</td>\n",
       "      <td>8.800529</td>\n",
       "      <td>0.0</td>\n",
       "      <td>0.0</td>\n",
       "      <td>12.875525</td>\n",
       "      <td>9.481184</td>\n",
       "      <td>8.028249</td>\n",
       "      <td>4.066025</td>\n",
       "      <td>5.137330</td>\n",
       "      <td>...</td>\n",
       "      <td>28.185679</td>\n",
       "      <td>23.597919</td>\n",
       "      <td>42.725502</td>\n",
       "      <td>3.971524</td>\n",
       "      <td>41.448185</td>\n",
       "      <td>10.998237</td>\n",
       "      <td>37.197206</td>\n",
       "      <td>17.758919</td>\n",
       "      <td>5.922558</td>\n",
       "      <td>2.467064</td>\n",
       "    </tr>\n",
       "    <tr>\n",
       "      <th>min</th>\n",
       "      <td>2009.000000</td>\n",
       "      <td>1.000000</td>\n",
       "      <td>1.000000</td>\n",
       "      <td>0.0</td>\n",
       "      <td>0.0</td>\n",
       "      <td>18.250000</td>\n",
       "      <td>37.120000</td>\n",
       "      <td>978.680000</td>\n",
       "      <td>0.000000</td>\n",
       "      <td>0.000000</td>\n",
       "      <td>...</td>\n",
       "      <td>0.000000</td>\n",
       "      <td>0.000000</td>\n",
       "      <td>0.000000</td>\n",
       "      <td>0.000000</td>\n",
       "      <td>0.000000</td>\n",
       "      <td>0.000000</td>\n",
       "      <td>0.000000</td>\n",
       "      <td>0.000000</td>\n",
       "      <td>1.750000</td>\n",
       "      <td>0.000000</td>\n",
       "    </tr>\n",
       "    <tr>\n",
       "      <th>25%</th>\n",
       "      <td>2011.000000</td>\n",
       "      <td>4.000000</td>\n",
       "      <td>8.000000</td>\n",
       "      <td>0.0</td>\n",
       "      <td>0.0</td>\n",
       "      <td>43.637500</td>\n",
       "      <td>65.330000</td>\n",
       "      <td>1012.380000</td>\n",
       "      <td>0.000000</td>\n",
       "      <td>0.000000</td>\n",
       "      <td>...</td>\n",
       "      <td>100.000000</td>\n",
       "      <td>0.000000</td>\n",
       "      <td>17.000000</td>\n",
       "      <td>0.000000</td>\n",
       "      <td>33.000000</td>\n",
       "      <td>0.000000</td>\n",
       "      <td>100.000000</td>\n",
       "      <td>0.000000</td>\n",
       "      <td>7.660000</td>\n",
       "      <td>0.670000</td>\n",
       "    </tr>\n",
       "    <tr>\n",
       "      <th>50%</th>\n",
       "      <td>2013.500000</td>\n",
       "      <td>7.000000</td>\n",
       "      <td>16.000000</td>\n",
       "      <td>0.0</td>\n",
       "      <td>0.0</td>\n",
       "      <td>53.920000</td>\n",
       "      <td>72.310000</td>\n",
       "      <td>1016.960000</td>\n",
       "      <td>0.100000</td>\n",
       "      <td>0.200000</td>\n",
       "      <td>...</td>\n",
       "      <td>100.000000</td>\n",
       "      <td>0.000000</td>\n",
       "      <td>99.000000</td>\n",
       "      <td>0.000000</td>\n",
       "      <td>100.000000</td>\n",
       "      <td>0.000000</td>\n",
       "      <td>100.000000</td>\n",
       "      <td>0.000000</td>\n",
       "      <td>10.800000</td>\n",
       "      <td>1.430000</td>\n",
       "    </tr>\n",
       "    <tr>\n",
       "      <th>75%</th>\n",
       "      <td>2016.000000</td>\n",
       "      <td>10.000000</td>\n",
       "      <td>23.000000</td>\n",
       "      <td>0.0</td>\n",
       "      <td>0.0</td>\n",
       "      <td>63.730000</td>\n",
       "      <td>78.710000</td>\n",
       "      <td>1021.730000</td>\n",
       "      <td>2.400000</td>\n",
       "      <td>3.200000</td>\n",
       "      <td>...</td>\n",
       "      <td>100.000000</td>\n",
       "      <td>2.100000</td>\n",
       "      <td>100.000000</td>\n",
       "      <td>0.000000</td>\n",
       "      <td>100.000000</td>\n",
       "      <td>0.000000</td>\n",
       "      <td>100.000000</td>\n",
       "      <td>0.000000</td>\n",
       "      <td>14.580000</td>\n",
       "      <td>2.910000</td>\n",
       "    </tr>\n",
       "    <tr>\n",
       "      <th>max</th>\n",
       "      <td>2018.000000</td>\n",
       "      <td>12.000000</td>\n",
       "      <td>31.000000</td>\n",
       "      <td>0.0</td>\n",
       "      <td>0.0</td>\n",
       "      <td>86.040000</td>\n",
       "      <td>95.540000</td>\n",
       "      <td>1046.970000</td>\n",
       "      <td>42.500000</td>\n",
       "      <td>66.500000</td>\n",
       "      <td>...</td>\n",
       "      <td>100.000000</td>\n",
       "      <td>100.000000</td>\n",
       "      <td>100.000000</td>\n",
       "      <td>100.000000</td>\n",
       "      <td>100.000000</td>\n",
       "      <td>100.000000</td>\n",
       "      <td>100.000000</td>\n",
       "      <td>100.000000</td>\n",
       "      <td>49.700000</td>\n",
       "      <td>22.400000</td>\n",
       "    </tr>\n",
       "  </tbody>\n",
       "</table>\n",
       "<p>8 rows × 33 columns</p>\n",
       "</div>"
      ],
      "text/plain": [
       "              Year        Month          Day    Hour  Minute  \\\n",
       "count  3652.000000  3652.000000  3652.000000  3652.0  3652.0   \n",
       "mean   2013.500274     6.523549    15.727820     0.0     0.0   \n",
       "std       2.872293     3.449005     8.800529     0.0     0.0   \n",
       "min    2009.000000     1.000000     1.000000     0.0     0.0   \n",
       "25%    2011.000000     4.000000     8.000000     0.0     0.0   \n",
       "50%    2013.500000     7.000000    16.000000     0.0     0.0   \n",
       "75%    2016.000000    10.000000    23.000000     0.0     0.0   \n",
       "max    2018.000000    12.000000    31.000000     0.0     0.0   \n",
       "\n",
       "       Temperature daily mean [2 m above gnd]  \\\n",
       "count                             3652.000000   \n",
       "mean                                53.772716   \n",
       "std                                 12.875525   \n",
       "min                                 18.250000   \n",
       "25%                                 43.637500   \n",
       "50%                                 53.920000   \n",
       "75%                                 63.730000   \n",
       "max                                 86.040000   \n",
       "\n",
       "       Relative Humidity daily mean [2 m above gnd]  \\\n",
       "count                                   3652.000000   \n",
       "mean                                      71.698968   \n",
       "std                                        9.481184   \n",
       "min                                       37.120000   \n",
       "25%                                       65.330000   \n",
       "50%                                       72.310000   \n",
       "75%                                       78.710000   \n",
       "max                                       95.540000   \n",
       "\n",
       "       Mean Sea Level Pressure daily mean [MSL]  \\\n",
       "count                               3652.000000   \n",
       "mean                                1016.841202   \n",
       "std                                    8.028249   \n",
       "min                                  978.680000   \n",
       "25%                                 1012.380000   \n",
       "50%                                 1016.960000   \n",
       "75%                                 1021.730000   \n",
       "max                                 1046.970000   \n",
       "\n",
       "       Total Precipitation (high resolution) daily sum [sfc]  \\\n",
       "count                                        3652.000000       \n",
       "mean                                            2.059091       \n",
       "std                                             4.066025       \n",
       "min                                             0.000000       \n",
       "25%                                             0.000000       \n",
       "50%                                             0.100000       \n",
       "75%                                             2.400000       \n",
       "max                                            42.500000       \n",
       "\n",
       "       Total Precipitation (low resolution) daily sum [sfc]  \\\n",
       "count                                        3652.000000      \n",
       "mean                                            2.626424      \n",
       "std                                             5.137330      \n",
       "min                                             0.000000      \n",
       "25%                                             0.000000      \n",
       "50%                                             0.200000      \n",
       "75%                                             3.200000      \n",
       "max                                            66.500000      \n",
       "\n",
       "                       ...                    \\\n",
       "count                  ...                     \n",
       "mean                   ...                     \n",
       "std                    ...                     \n",
       "min                    ...                     \n",
       "25%                    ...                     \n",
       "50%                    ...                     \n",
       "75%                    ...                     \n",
       "max                    ...                     \n",
       "\n",
       "       Total Cloud Cover daily max [sfc]  Total Cloud Cover daily min [sfc]  \\\n",
       "count                        3652.000000                        3652.000000   \n",
       "mean                           89.282585                           8.798932   \n",
       "std                            28.185679                          23.597919   \n",
       "min                             0.000000                           0.000000   \n",
       "25%                           100.000000                           0.000000   \n",
       "50%                           100.000000                           0.000000   \n",
       "75%                           100.000000                           2.100000   \n",
       "max                           100.000000                         100.000000   \n",
       "\n",
       "       High Cloud Cover daily max [high cld lay]  \\\n",
       "count                                3652.000000   \n",
       "mean                                   60.894852   \n",
       "std                                    42.725502   \n",
       "min                                     0.000000   \n",
       "25%                                    17.000000   \n",
       "50%                                    99.000000   \n",
       "75%                                   100.000000   \n",
       "max                                   100.000000   \n",
       "\n",
       "       High Cloud Cover daily min [high cld lay]  \\\n",
       "count                                3652.000000   \n",
       "mean                                    0.766703   \n",
       "std                                     3.971524   \n",
       "min                                     0.000000   \n",
       "25%                                     0.000000   \n",
       "50%                                     0.000000   \n",
       "75%                                     0.000000   \n",
       "max                                   100.000000   \n",
       "\n",
       "       Medium Cloud Cover daily max [mid cld lay]  \\\n",
       "count                                 3652.000000   \n",
       "mean                                    72.610077   \n",
       "std                                     41.448185   \n",
       "min                                      0.000000   \n",
       "25%                                     33.000000   \n",
       "50%                                    100.000000   \n",
       "75%                                    100.000000   \n",
       "max                                    100.000000   \n",
       "\n",
       "       Medium Cloud Cover daily min [mid cld lay]  \\\n",
       "count                                 3652.000000   \n",
       "mean                                     2.026835   \n",
       "std                                     10.998237   \n",
       "min                                      0.000000   \n",
       "25%                                      0.000000   \n",
       "50%                                      0.000000   \n",
       "75%                                      0.000000   \n",
       "max                                    100.000000   \n",
       "\n",
       "       Low Cloud Cover daily max [low cld lay]  \\\n",
       "count                              3652.000000   \n",
       "mean                                 81.302848   \n",
       "std                                  37.197206   \n",
       "min                                   0.000000   \n",
       "25%                                 100.000000   \n",
       "50%                                 100.000000   \n",
       "75%                                 100.000000   \n",
       "max                                 100.000000   \n",
       "\n",
       "       Low Cloud Cover daily min [low cld lay]  \\\n",
       "count                              3652.000000   \n",
       "mean                                  4.202355   \n",
       "std                                  17.758919   \n",
       "min                                   0.000000   \n",
       "25%                                   0.000000   \n",
       "50%                                   0.000000   \n",
       "75%                                   0.000000   \n",
       "max                                 100.000000   \n",
       "\n",
       "       Wind Speed daily max [10 m above gnd]  \\\n",
       "count                            3652.000000   \n",
       "mean                               11.934934   \n",
       "std                                 5.922558   \n",
       "min                                 1.750000   \n",
       "25%                                 7.660000   \n",
       "50%                                10.800000   \n",
       "75%                                14.580000   \n",
       "max                                49.700000   \n",
       "\n",
       "       Wind Speed daily min [10 m above gnd]  \n",
       "count                            3652.000000  \n",
       "mean                                2.226298  \n",
       "std                                 2.467064  \n",
       "min                                 0.000000  \n",
       "25%                                 0.670000  \n",
       "50%                                 1.430000  \n",
       "75%                                 2.910000  \n",
       "max                                22.400000  \n",
       "\n",
       "[8 rows x 33 columns]"
      ]
     },
     "execution_count": 3,
     "metadata": {},
     "output_type": "execute_result"
    }
   ],
   "source": [
    "data.describe()"
   ]
  },
  {
   "cell_type": "markdown",
   "metadata": {},
   "source": [
    "## 2a. Identifying collinearity in the data"
   ]
  },
  {
   "cell_type": "code",
   "execution_count": 4,
   "metadata": {},
   "outputs": [
    {
     "data": {
      "image/png": "[encoded data removed]",
      "text/plain": [
       "<Figure size 1080x1080 with 2 Axes>"
      ]
     },
     "metadata": {},
     "output_type": "display_data"
    }
   ],
   "source": [
    "fig, ax = plt.subplots(figsize=(15,15))         # Sample figsize in inches\n",
    "corr = data.corr()\n",
    "sns.heatmap(corr, \n",
    "            xticklabels=corr.columns.values,\n",
    "            yticklabels=corr.columns.values,\n",
    "            ax=ax);"
   ]
  },
  {
   "cell_type": "markdown",
   "metadata": {},
   "source": [
    "## 2b. Simplify features"
   ]
  },
  {
   "cell_type": "code",
   "execution_count": 5,
   "metadata": {},
   "outputs": [],
   "source": [
    "# drop variables with multicollinearity\n",
    "# simplify features\n",
    "\n",
    "data = data.drop(['Temperature daily max [2 m above gnd]',\n",
    "                  'Temperature daily min [2 m above gnd]',\n",
    "                  'Relative Humidity daily max [2 m above gnd]',\n",
    "                  'Relative Humidity daily min [2 m above gnd]',\n",
    "                  'Mean Sea Level Pressure daily max [MSL]',\n",
    "                  'Mean Sea Level Pressure daily min [MSL]',\n",
    "                  'Wind Speed daily max [10 m above gnd]',\n",
    "                  'Wind Speed daily min [10 m above gnd]',\n",
    "                  'High Cloud Cover daily max [high cld lay]',\n",
    "                  'High Cloud Cover daily min [high cld lay]',\n",
    "                  'Medium Cloud Cover daily max [mid cld lay]',\n",
    "                  'Medium Cloud Cover daily min [mid cld lay]',\n",
    "                  'Low Cloud Cover daily max [low cld lay]',\n",
    "                  'Low Cloud Cover daily min [low cld lay]'], axis=1)"
   ]
  },
  {
   "cell_type": "markdown",
   "metadata": {},
   "source": [
    "## 2c. Define target as 'sunny' if Sunshine Duration is > 350 minutes.\n",
    "\n",
    "---"
   ]
  },
  {
   "cell_type": "code",
   "execution_count": 6,
   "metadata": {},
   "outputs": [
    {
     "data": {
      "text/plain": [
       "count    3652.000000\n",
       "mean      369.276517\n",
       "std       278.356924\n",
       "min      -888.610000\n",
       "25%       114.372500\n",
       "50%       350.180000\n",
       "75%       581.670000\n",
       "max       962.280000\n",
       "Name: Sunshine Duration daily sum [sfc], dtype: float64"
      ]
     },
     "execution_count": 6,
     "metadata": {},
     "output_type": "execute_result"
    }
   ],
   "source": [
    "data['Sunshine Duration daily sum [sfc]'].describe()"
   ]
  },
  {
   "cell_type": "code",
   "execution_count": 7,
   "metadata": {},
   "outputs": [],
   "source": [
    "# drop first row with negative sunshine\n",
    "data = data[data['Sunshine Duration daily sum [sfc]'] >= 0]"
   ]
  },
  {
   "cell_type": "code",
   "execution_count": 8,
   "metadata": {},
   "outputs": [
    {
     "data": {
      "image/png": "[encoded data removed]",
      "text/plain": [
       "<Figure size 1080x504 with 1 Axes>"
      ]
     },
     "metadata": {},
     "output_type": "display_data"
    }
   ],
   "source": [
    "# plot distribution of sunshine duration\n",
    "data['Sunshine Duration daily sum [sfc]'].hist(bins=50, figsize=(15,7));"
   ]
  },
  {
   "cell_type": "code",
   "execution_count": 9,
   "metadata": {},
   "outputs": [
    {
     "data": {
      "text/plain": [
       "350.25"
      ]
     },
     "execution_count": 9,
     "metadata": {},
     "output_type": "execute_result"
    }
   ],
   "source": [
    "# find median sunshine duration\n",
    "statistics.median(data['Sunshine Duration daily sum [sfc]'])"
   ]
  },
  {
   "cell_type": "code",
   "execution_count": 10,
   "metadata": {},
   "outputs": [],
   "source": [
    "# use median as threshold\n",
    "# shift one day to obtain target\n",
    "\n",
    "data['next_sunny'] = np.where(data['Sunshine Duration daily sum [sfc]']>=350, 1, 0)\n",
    "data['next_sunny'] = data['next_sunny'].shift(-1);"
   ]
  },
  {
   "cell_type": "markdown",
   "metadata": {},
   "source": [
    "# 3a. Feature Engineering\n",
    "\n",
    "---\n",
    "\n",
    "One-hot encode month as an indicator variable."
   ]
  },
  {
   "cell_type": "code",
   "execution_count": 11,
   "metadata": {},
   "outputs": [],
   "source": [
    "# create one hot encoding for months\n",
    "months = ['Jan', 'Feb', 'Mar', 'Apr', 'May', 'Jun', 'Jul', 'Aug', 'Sep', 'Oct', 'Nov', 'Dec']\n",
    "for i in range(len(months)):\n",
    "    month = months[i]\n",
    "    idx = i+1\n",
    "    data[month] = np.where(data['Month']==idx, 1, 0)   "
   ]
  },
  {
   "cell_type": "markdown",
   "metadata": {},
   "source": [
    "# 3b. Train test split (80-20)\n",
    "\n",
    "---"
   ]
  },
  {
   "cell_type": "code",
   "execution_count": 12,
   "metadata": {},
   "outputs": [],
   "source": [
    "def train_test_split(df):\n",
    "    train = df[df['Year']<=2016]\n",
    "    train = train.dropna()\n",
    "    X_train = train.drop(['Year', 'Month', 'Day', 'Hour', 'Minute',\n",
    "                          'next_sunny'], axis=1)\n",
    "    y_train = train['next_sunny']\n",
    "\n",
    "    test = df[df['Year']>=2017]\n",
    "    test = test.dropna()\n",
    "    X_test = test.drop(['Year', 'Month', 'Day', 'Hour', 'Minute',\n",
    "                        'next_sunny'], axis=1)\n",
    "    y_test = test['next_sunny']\n",
    "    \n",
    "    return X_train, y_train, X_test, y_test"
   ]
  },
  {
   "cell_type": "code",
   "execution_count": 13,
   "metadata": {},
   "outputs": [],
   "source": [
    "X_train, y_train, X_test, y_test = train_test_split(data)"
   ]
  },
  {
   "cell_type": "markdown",
   "metadata": {},
   "source": [
    "# 4. Model Selection"
   ]
  },
  {
   "cell_type": "markdown",
   "metadata": {},
   "source": [
    "## 4a. Baseline Model: 50% Sunny\n",
    "\n",
    "---\n",
    "\n",
    "Since our threshold is taken at the median of Sunshine Duration, 50% of days are sunny, 50% not."
   ]
  },
  {
   "cell_type": "markdown",
   "metadata": {},
   "source": [
    "## 4b. Model 1: Auto-regressive Logistic (1-day look back)\n",
    "\n",
    "---\n",
    "\n",
    "train_accuracy = 0.68, test_accuracy = 0.73, f1_score = 0.74"
   ]
  },
  {
   "cell_type": "code",
   "execution_count": 14,
   "metadata": {},
   "outputs": [],
   "source": [
    "clf = LogisticRegression(random_state=0, solver='lbfgs', multi_class='multinomial').fit(X_train, y_train)\n",
    "y_pred = clf.predict(X_test)"
   ]
  },
  {
   "cell_type": "code",
   "execution_count": 15,
   "metadata": {},
   "outputs": [
    {
     "name": "stdout",
     "output_type": "stream",
     "text": [
      "Train Accuracy: 67.65%, Test Accuracy: 72.70%, F1-Score: 74.26%\n"
     ]
    }
   ],
   "source": [
    "mod1_train_acc, mod1_test_acc = clf.score(X_train, y_train), clf.score(X_test, y_test)\n",
    "mod1_f1_score = f1_score(y_test, y_pred)\n",
    "\n",
    "print(\"Train Accuracy: {:2.2%}, Test Accuracy: {:2.2%}, F1-Score: {:2.2%}\"\n",
    "      .format(mod1_train_acc, mod1_test_acc, mod1_f1_score))"
   ]
  },
  {
   "cell_type": "markdown",
   "metadata": {},
   "source": [
    "## 4c. Model 2: Auto-regressive Logistic (3-days look back)\n",
    "\n",
    "---\n",
    "\n",
    "train_accuracy = 0.70, test_accuracy = 0.71, f1_score = 0.74"
   ]
  },
  {
   "cell_type": "code",
   "execution_count": 16,
   "metadata": {},
   "outputs": [],
   "source": [
    "# create features for 3 days look-back\n",
    "\n",
    "exclusion = ['Year', 'Month', 'Day', 'Hour', 'Minute',\n",
    "             'next_sunny', 'Jan', 'Feb', 'Mar', 'Apr', 'May', \n",
    "             'Jun', 'Jul', 'Aug', 'Sep', 'Oct', 'Nov', 'Dec']\n",
    "\n",
    "data_auto = data.copy()\n",
    "\n",
    "for column in data_auto.columns:\n",
    "    if column not in exclusion:\n",
    "        for i in range(1,3):\n",
    "            new_col = column + '_t-' + str(i)\n",
    "            data_auto[new_col] = data_auto[column].shift(i)"
   ]
  },
  {
   "cell_type": "code",
   "execution_count": 17,
   "metadata": {},
   "outputs": [],
   "source": [
    "X_train, y_train, X_test, y_test = train_test_split(data_auto)"
   ]
  },
  {
   "cell_type": "code",
   "execution_count": 18,
   "metadata": {},
   "outputs": [],
   "source": [
    "clf = LogisticRegression(random_state=0, solver='lbfgs', multi_class='multinomial').fit(X_train, y_train)\n",
    "y_pred = clf.predict(X_test)"
   ]
  },
  {
   "cell_type": "code",
   "execution_count": 19,
   "metadata": {},
   "outputs": [
    {
     "name": "stdout",
     "output_type": "stream",
     "text": [
      "Train Accuracy: 69.54%, Test Accuracy: 71.60%, F1-Score: 74.22%\n"
     ]
    }
   ],
   "source": [
    "mod2_train_acc, mod2_test_acc = clf.score(X_train, y_train), clf.score(X_test, y_test)\n",
    "mod2_f1_score = f1_score(y_test, y_pred)\n",
    "\n",
    "print(\"Train Accuracy: {:2.2%}, Test Accuracy: {:2.2%}, F1-Score: {:2.2%}\"\n",
    "      .format(mod2_train_acc, mod2_test_acc, mod2_f1_score))"
   ]
  },
  {
   "cell_type": "markdown",
   "metadata": {},
   "source": [
    "# 5. Imbalanced dataset\n",
    "\n",
    "---\n",
    "\n",
    "By adjusting the 'Sunshine Duration' threshold, we can make only 10% of the days be considered as 'sunny'."
   ]
  },
  {
   "cell_type": "code",
   "execution_count": 20,
   "metadata": {},
   "outputs": [
    {
     "data": {
      "text/plain": [
       "count    3650.000000\n",
       "mean        0.103288\n",
       "std         0.304376\n",
       "min         0.000000\n",
       "25%         0.000000\n",
       "50%         0.000000\n",
       "75%         0.000000\n",
       "max         1.000000\n",
       "Name: next_sunny, dtype: float64"
      ]
     },
     "execution_count": 20,
     "metadata": {},
     "output_type": "execute_result"
    }
   ],
   "source": [
    "data_imbalance = data.copy()\n",
    "data_imbalance['next_sunny'] = np.where(data_imbalance['Sunshine Duration daily sum [sfc]']>=770, 1, 0)\n",
    "data_imbalance['next_sunny'] = data_imbalance['next_sunny'].shift(-1)\n",
    "data_imbalance['next_sunny'].describe()"
   ]
  },
  {
   "cell_type": "markdown",
   "metadata": {},
   "source": [
    "## 5a. Model 3: Auto-regressive Logistic (1-day look back)\n",
    "\n",
    "train_accuracy = 0.91, test_accuracy = 0.88, f1_score = 0.41"
   ]
  },
  {
   "cell_type": "code",
   "execution_count": 21,
   "metadata": {},
   "outputs": [],
   "source": [
    "X_train, y_train, X_test, y_test = train_test_split(data_imbalance)"
   ]
  },
  {
   "cell_type": "code",
   "execution_count": 22,
   "metadata": {},
   "outputs": [],
   "source": [
    "clf = LogisticRegression(random_state=0, solver='lbfgs', multi_class='multinomial').fit(X_train, y_train)\n",
    "y_pred = clf.predict(X_test)"
   ]
  },
  {
   "cell_type": "code",
   "execution_count": 23,
   "metadata": {},
   "outputs": [
    {
     "name": "stdout",
     "output_type": "stream",
     "text": [
      "Train Accuracy: 90.69%, Test Accuracy: 88.20%, F1-Score: 41.10%\n"
     ]
    }
   ],
   "source": [
    "mod3_train_acc, mod3_test_acc = clf.score(X_train, y_train), clf.score(X_test, y_test)\n",
    "mod3_f1_score = f1_score(y_test, y_pred)\n",
    "\n",
    "print(\"Train Accuracy: {:2.2%}, Test Accuracy: {:2.2%}, F1-Score: {:2.2%}\"\n",
    "      .format(mod3_train_acc, mod3_test_acc, mod3_f1_score))"
   ]
  },
  {
   "cell_type": "markdown",
   "metadata": {},
   "source": [
    "## 5b. Model 4: Auto-regressive Logistic (3-days look back)\n",
    "\n",
    "---\n",
    "\n",
    "train_accuracy = 0.91, test_accuracy = 0.88, f1_score = 0.44"
   ]
  },
  {
   "cell_type": "code",
   "execution_count": 24,
   "metadata": {},
   "outputs": [],
   "source": [
    "data_imbalance_auto = data_imbalance.copy()\n",
    "for column in data_imbalance_auto.columns:\n",
    "    if column not in exclusion:\n",
    "        for i in range(1,3):\n",
    "            new_col = column + '_t-' + str(i)\n",
    "            data_imbalance_auto[new_col] = data_imbalance_auto[column].shift(i)"
   ]
  },
  {
   "cell_type": "code",
   "execution_count": 25,
   "metadata": {},
   "outputs": [],
   "source": [
    "X_train, y_train, X_test, y_test = train_test_split(data_imbalance_auto)\n",
    "\n",
    "clf = LogisticRegression(random_state=0, solver='lbfgs', multi_class='multinomial').fit(X_train, y_train)\n",
    "y_pred = clf.predict(X_test)"
   ]
  },
  {
   "cell_type": "code",
   "execution_count": 26,
   "metadata": {},
   "outputs": [
    {
     "name": "stdout",
     "output_type": "stream",
     "text": [
      "Train Accuracy: 90.68%, Test Accuracy: 88.34%, F1-Score: 44.44%\n"
     ]
    }
   ],
   "source": [
    "mod4_train_acc, mod4_test_acc = clf.score(X_train, y_train), clf.score(X_test, y_test)\n",
    "mod4_f1_score = f1_score(y_test, y_pred)\n",
    "\n",
    "print(\"Train Accuracy: {:2.2%}, Test Accuracy: {:2.2%}, F1-Score: {:2.2%}\"\n",
    "      .format(mod4_train_acc, mod4_test_acc, mod4_f1_score))"
   ]
  },
  {
   "cell_type": "markdown",
   "metadata": {},
   "source": [
    "# 6. Oversampling\n",
    "\n",
    "---\n",
    "\n",
    "Use random oversampling to increase minority class to about 30%."
   ]
  },
  {
   "cell_type": "code",
   "execution_count": 27,
   "metadata": {},
   "outputs": [],
   "source": [
    "X_train, y_train, X_test, y_test = train_test_split(data_imbalance)"
   ]
  },
  {
   "cell_type": "code",
   "execution_count": 28,
   "metadata": {},
   "outputs": [
    {
     "data": {
      "text/plain": [
       "((3721, 26), (3721,))"
      ]
     },
     "execution_count": 28,
     "metadata": {},
     "output_type": "execute_result"
    }
   ],
   "source": [
    "# random oversampling to increase minority class to about 30%\n",
    "oversample_size = 800\n",
    "new_X = []\n",
    "new_y = []\n",
    "\n",
    "y_pos = y_train[(y_train==1)]\n",
    "pos_index = list(y_pos.index)\n",
    "oversample_i = np.random.choice(len(pos_index), oversample_size)\n",
    "for i in oversample_i:\n",
    "    idx = pos_index[i]\n",
    "    new_X.append(np.array(X_train.iloc[idx]))\n",
    "    new_y.append(y_train[idx])\n",
    "\n",
    "X_oversample = pd.DataFrame(np.array(new_X), columns=X_train.columns)\n",
    "y_oversample = pd.Series(np.array(new_y))\n",
    "\n",
    "X_train = X_train.append(X_oversample)\n",
    "y_train = y_train.append(y_oversample)\n",
    "X_train.shape, y_train.shape"
   ]
  },
  {
   "cell_type": "markdown",
   "metadata": {},
   "source": [
    "## 6a. Model 5: Auto-regressive Logistic with oversample (1-day look back) \n",
    "\n",
    "---\n",
    "\n",
    "train_accuracy = 0.90, test_accuracy = 0.86, f1_score = 0.52"
   ]
  },
  {
   "cell_type": "code",
   "execution_count": 29,
   "metadata": {},
   "outputs": [],
   "source": [
    "clf = LogisticRegression(random_state=0, solver='lbfgs', multi_class='multinomial').fit(X_train, y_train)\n",
    "y_pred = clf.predict(X_test)"
   ]
  },
  {
   "cell_type": "code",
   "execution_count": 30,
   "metadata": {},
   "outputs": [
    {
     "name": "stdout",
     "output_type": "stream",
     "text": [
      "Train Accuracy: 90.03%, Test Accuracy: 85.60%, F1-Score: 52.05%\n"
     ]
    }
   ],
   "source": [
    "mod5_train_acc, mod5_test_acc = clf.score(X_train, y_train), clf.score(X_test, y_test)\n",
    "mod5_f1_score = f1_score(y_test, y_pred)\n",
    "\n",
    "print(\"Train Accuracy: {:2.2%}, Test Accuracy: {:2.2%}, F1-Score: {:2.2%}\"\n",
    "      .format(mod5_train_acc, mod5_test_acc, mod5_f1_score))"
   ]
  },
  {
   "cell_type": "markdown",
   "metadata": {},
   "source": [
    "# 7. Models Comparison and Conclusion"
   ]
  },
  {
   "cell_type": "code",
   "execution_count": 45,
   "metadata": {},
   "outputs": [
    {
     "data": {
      "text/html": [
       "<div>\n",
       "<style scoped>\n",
       "    .dataframe tbody tr th:only-of-type {\n",
       "        vertical-align: middle;\n",
       "    }\n",
       "\n",
       "    .dataframe tbody tr th {\n",
       "        vertical-align: top;\n",
       "    }\n",
       "\n",
       "    .dataframe thead th {\n",
       "        text-align: right;\n",
       "    }\n",
       "</style>\n",
       "<table border=\"1\" class=\"dataframe\">\n",
       "  <thead>\n",
       "    <tr style=\"text-align: right;\">\n",
       "      <th></th>\n",
       "      <th>Model</th>\n",
       "      <th>Train Acc</th>\n",
       "      <th>Test_Acc</th>\n",
       "      <th>F1-score</th>\n",
       "    </tr>\n",
       "  </thead>\n",
       "  <tbody>\n",
       "    <tr>\n",
       "      <th>0</th>\n",
       "      <td>1-day Logit</td>\n",
       "      <td>0.676481</td>\n",
       "      <td>0.727023</td>\n",
       "      <td>0.742561</td>\n",
       "    </tr>\n",
       "    <tr>\n",
       "      <th>1</th>\n",
       "      <td>3-day AutoRegLogit</td>\n",
       "      <td>0.695444</td>\n",
       "      <td>0.716049</td>\n",
       "      <td>0.742217</td>\n",
       "    </tr>\n",
       "    <tr>\n",
       "      <th>2</th>\n",
       "      <td>1-day Logit (Imbalance)</td>\n",
       "      <td>0.906881</td>\n",
       "      <td>0.882030</td>\n",
       "      <td>0.410959</td>\n",
       "    </tr>\n",
       "    <tr>\n",
       "      <th>3</th>\n",
       "      <td>1-day Logit (Imbalance+Oversample)</td>\n",
       "      <td>0.900296</td>\n",
       "      <td>0.855967</td>\n",
       "      <td>0.520548</td>\n",
       "    </tr>\n",
       "  </tbody>\n",
       "</table>\n",
       "</div>"
      ],
      "text/plain": [
       "                                Model  Train Acc  Test_Acc  F1-score\n",
       "0                         1-day Logit   0.676481  0.727023  0.742561\n",
       "1                  3-day AutoRegLogit   0.695444  0.716049  0.742217\n",
       "2             1-day Logit (Imbalance)   0.906881  0.882030  0.410959\n",
       "3  1-day Logit (Imbalance+Oversample)   0.900296  0.855967  0.520548"
      ]
     },
     "execution_count": 45,
     "metadata": {},
     "output_type": "execute_result"
    }
   ],
   "source": [
    "performance = []\n",
    "performance.append(('1-day Logit', mod1_train_acc, mod1_test_acc, mod1_f1_score))\n",
    "performance.append(('3-day AutoRegLogit', mod2_train_acc, mod2_test_acc, mod2_f1_score))\n",
    "performance.append(('1-day Logit (Imbalance)', mod3_train_acc, mod3_test_acc, mod3_f1_score))\n",
    "performance.append(('1-day Logit (Imbalance+Oversample)', mod5_train_acc, mod5_test_acc, mod5_f1_score))\n",
    "\n",
    "perform_df = pd.DataFrame(performance, columns=['Model', 'Train Acc', 'Test_Acc', 'F1-score'])\n",
    "perform_df"
   ]
  },
  {
   "cell_type": "markdown",
   "metadata": {},
   "source": [
    "## 7a. Key Learnings\n",
    "\n",
    "### 1. 3-days auto-regressive logistic doesn't improve model significantly compared to 1-day logit.\n",
    "### 2. Imbalance dataset increases train and test accuracy but lowers F1 score significantly.\n",
    "### 3. Oversampling of minority dataset can improve F1-score in imbalance datasets."
   ]
  },
  {
   "cell_type": "code",
   "execution_count": null,
   "metadata": {},
   "outputs": [],
   "source": []
  }
 ],
 "metadata": {
  "kernelspec": {
   "display_name": "Python 3",
   "language": "python",
   "name": "python3"
  },
  "language_info": {
   "codemirror_mode": {
    "name": "ipython",
    "version": 3
   },
   "file_extension": ".py",
   "mimetype": "text/x-python",
   "name": "python",
   "nbconvert_exporter": "python",
   "pygments_lexer": "ipython3",
   "version": "3.6.5"
  }
 },
 "nbformat": 4,
 "nbformat_minor": 2
}
